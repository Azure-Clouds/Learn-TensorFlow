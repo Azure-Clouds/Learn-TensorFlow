{
 "cells": [
  {
   "cell_type": "markdown",
   "metadata": {},
   "source": [
    "# Visualizing How Convolution Detect Features "
   ]
  },
  {
   "cell_type": "markdown",
   "metadata": {},
   "source": [
    "In this notebook we look back again on the [Fashion MNIST](https://github.com/zalandoresearch/fashion-mnist) data but, instead of the simplistic one hidden layer neural network, we implement a two convolutional and two max pooling layers. We expect better performance compared to the previous case, but also we will see how the features of various dresses are found by the convolutional layers.  "
   ]
  },
  {
   "cell_type": "code",
   "execution_count": 3,
   "metadata": {},
   "outputs": [],
   "source": [
    "import tensorflow as tf\n",
    "import numpy as np\n",
    "from tensorflow import keras\n",
    "import matplotlib.pyplot as plt"
   ]
  },
  {
   "cell_type": "markdown",
   "metadata": {},
   "source": [
    "#### Load Data from Keras Dataset"
   ]
  },
  {
   "cell_type": "code",
   "execution_count": 4,
   "metadata": {},
   "outputs": [],
   "source": [
    "mnist_fashion = keras.datasets.fashion_mnist\n",
    "(X_train, y_train), (X_test, y_test) = mnist_fashion.load_data()"
   ]
  },
  {
   "cell_type": "markdown",
   "metadata": {},
   "source": [
    "**Label and Class for the Fashion Dataset**\n",
    "\n",
    "|Label | Class|\n",
    "|---|---|\n",
    "|0| Top|\n",
    "|1| Trouser|\n",
    "|2| Pullover|\n",
    "|3| Dress|\n",
    "|4| Coat|\n",
    "|5| Sandal|\n",
    "|6| Shirt|\n",
    "|7| Sneaker|\n",
    "|8| Bag|\n",
    "|9| Ankle Boot|"
   ]
  },
  {
   "cell_type": "markdown",
   "metadata": {},
   "source": [
    "#### Normalize the Pixels\n",
    "Since the pixel values are number between 0 and 255, it is better if we normalize the values between 0 and 1 and it is considered as one of the most important image _pre-processing_ steps. "
   ]
  },
  {
   "cell_type": "code",
   "execution_count": 5,
   "metadata": {},
   "outputs": [],
   "source": [
    "X_train = X_train/255.0\n",
    "X_test = X_test/255."
   ]
  },
  {
   "cell_type": "markdown",
   "metadata": {},
   "source": [
    "#### Difference with Previous Example (1 Hidden dense Layer) "
   ]
  },
  {
   "cell_type": "markdown",
   "metadata": {},
   "source": [
    "* First, it's better to understand Convolution and What it Actually Does. Get started with Andrew Ng's Deep Learning Specialization and Check the amazing [CS231n Course Page](http://cs231n.github.io/convolutional-networks/)\n",
    "\n",
    "* Since we are going to use [Conv2d](https://www.tensorflow.org/api_docs/python/tf/keras/layers/Conv2D) and [MaxPool2D](https://www.tensorflow.org/api_docs/python/tf/keras/layers/MaxPool2D) layers, check the descriptions to know about the input arguments, output etc. \n",
    "\n",
    "* Here we start with simplest form of convolution, $3\\times 3$ without any stride and no padding. \n",
    "\n",
    "* Images are graysclaed, so only 1 channel. \n",
    "\n",
    "* Use relu activation function. \n",
    "\n",
    "Let's begin!"
   ]
  },
  {
   "cell_type": "markdown",
   "metadata": {},
   "source": [
    "#### Reshape the Data"
   ]
  },
  {
   "cell_type": "markdown",
   "metadata": {},
   "source": [
    "Treat the input data as tensors, with a format (batch, height, width, channels) "
   ]
  },
  {
   "cell_type": "code",
   "execution_count": 6,
   "metadata": {},
   "outputs": [
    {
     "name": "stdout",
     "output_type": "stream",
     "text": [
      "(10000, 28, 28)\n"
     ]
    }
   ],
   "source": [
    "X_train_reshape = X_train.reshape(60000, 28, 28, 1)\n",
    "X_test_reshape = X_test.reshape(10000, 28, 28, 1)\n",
    "print (X_test.shape)"
   ]
  },
  {
   "cell_type": "markdown",
   "metadata": {},
   "source": [
    "#### Create Layers Conv and Maxpool (Twice), Then Dense Layer "
   ]
  },
  {
   "cell_type": "code",
   "execution_count": 8,
   "metadata": {},
   "outputs": [],
   "source": [
    "model = keras.models.Sequential([\n",
    "    keras.layers.Conv2D(32, (3, 3), activation='relu', input_shape=(28, 28, 1)), \n",
    "    keras.layers.MaxPooling2D(2, 2), \n",
    "    keras.layers.Conv2D(32, (3, 3), activation='relu'), \n",
    "    keras.layers.MaxPooling2D(2, 2), \n",
    "    keras.layers.Flatten(), \n",
    "    keras.layers.Dense(128, activation='relu'), \n",
    "    keras.layers.Dense(10, activation='softmax')])"
   ]
  },
  {
   "cell_type": "code",
   "execution_count": 9,
   "metadata": {},
   "outputs": [
    {
     "name": "stdout",
     "output_type": "stream",
     "text": [
      "Model: \"sequential_1\"\n",
      "_________________________________________________________________\n",
      "Layer (type)                 Output Shape              Param #   \n",
      "=================================================================\n",
      "conv2d_2 (Conv2D)            (None, 26, 26, 32)        320       \n",
      "_________________________________________________________________\n",
      "max_pooling2d_2 (MaxPooling2 (None, 13, 13, 32)        0         \n",
      "_________________________________________________________________\n",
      "conv2d_3 (Conv2D)            (None, 11, 11, 32)        9248      \n",
      "_________________________________________________________________\n",
      "max_pooling2d_3 (MaxPooling2 (None, 5, 5, 32)          0         \n",
      "_________________________________________________________________\n",
      "flatten_1 (Flatten)          (None, 800)               0         \n",
      "_________________________________________________________________\n",
      "dense_2 (Dense)              (None, 128)               102528    \n",
      "_________________________________________________________________\n",
      "dense_3 (Dense)              (None, 10)                1290      \n",
      "=================================================================\n",
      "Total params: 113,386\n",
      "Trainable params: 113,386\n",
      "Non-trainable params: 0\n",
      "_________________________________________________________________\n"
     ]
    }
   ],
   "source": [
    "model.summary()"
   ]
  },
  {
   "cell_type": "markdown",
   "metadata": {},
   "source": [
    "#### Understanding Model Summary"
   ]
  },
  {
   "cell_type": "markdown",
   "metadata": {},
   "source": [
    "* 1st layer is 2D Conv Layer, takes input image of size (28, 28, 1). Filter dimension is (3, 3). Thus output shape $(w-f+1, h-f+1, n_c)$ where $n_c$ is the number of convolution filters. \n",
    "\n",
    "* Number of Parameters: Input image size (28, 28) with only one channel. Filter size (3, 3). Number of filters 32, thus total number of weights = $f\\times f \\times n_c \\times 1 = 288$, number of bias paramters = number of filters (32). Thus total number of parameters $ 288 + 32 = 320 $. Let's verify this for the next conv layer.     \n",
    "\n",
    "* In the next conv layer, number of channels = 32 (should be equal to the number of filters used in the previous conv layer which is $n_c$). <br> So total number of weights $f\\times f\\times n_c^{[L]} \\times n_c^{[L-1]} = 3\\times 3\\times 32 \\times 32 = 9216$. Number of bias paramters = 32 (number of filters), thus total number of paramters = $9216 + 32 = 9248$. Notations are influenced by Andrew Ng's Deep Learning Course.  \n",
    "\n",
    "* Dense layer is also known as fully connected layer and thus depends on the number of neurons in the dense layer. Number of weights = $128 \\times 800 = 102400$, 800 is obtained after flattening the image of shape (5, 5, 32). Number of bias = 128, thus total number of parameter = 102528.  \n",
    "\n",
    "* In the final layer, the input of the dense layer is coming from last 128 layers and the output is connected to 10 neurons, thus total number of paramters $ 128 \\times 10 + 10 = 1290$.  "
   ]
  },
  {
   "cell_type": "markdown",
   "metadata": {},
   "source": [
    "### Compile Model and Fit Training Data"
   ]
  },
  {
   "cell_type": "code",
   "execution_count": 10,
   "metadata": {},
   "outputs": [
    {
     "name": "stdout",
     "output_type": "stream",
     "text": [
      "Epoch 1/4\n",
      "60000/60000 [==============================] - 19s 322us/sample - loss: 0.4708 - acc: 0.8303\n",
      "Epoch 2/4\n",
      "60000/60000 [==============================] - 19s 312us/sample - loss: 0.3189 - acc: 0.8832\n",
      "Epoch 3/4\n",
      "60000/60000 [==============================] - 19s 310us/sample - loss: 0.2755 - acc: 0.8988\n",
      "Epoch 4/4\n",
      "60000/60000 [==============================] - 19s 311us/sample - loss: 0.2456 - acc: 0.9098\n"
     ]
    },
    {
     "data": {
      "text/plain": [
       "<tensorflow.python.keras.callbacks.History at 0x7f05a21fe780>"
      ]
     },
     "execution_count": 10,
     "metadata": {},
     "output_type": "execute_result"
    }
   ],
   "source": [
    "model.compile(optimizer='Adam', loss='sparse_categorical_crossentropy', metrics=['accuracy'])\n",
    "\n",
    "model.fit(X_train_reshape, y_train, epochs=4)"
   ]
  },
  {
   "cell_type": "markdown",
   "metadata": {},
   "source": [
    "#### Evaluate the Performance of the Model with Test Data"
   ]
  },
  {
   "cell_type": "code",
   "execution_count": 11,
   "metadata": {},
   "outputs": [
    {
     "name": "stdout",
     "output_type": "stream",
     "text": [
      "10000/10000 [==============================] - 1s 107us/sample - loss: 0.2939 - acc: 0.8922\n",
      "0.8922\n"
     ]
    }
   ],
   "source": [
    "test_loss, test_acc = model.evaluate(X_test_reshape, y_test)\n",
    "print (test_acc)"
   ]
  },
  {
   "cell_type": "code",
   "execution_count": 12,
   "metadata": {},
   "outputs": [
    {
     "name": "stdout",
     "output_type": "stream",
     "text": [
      "[2 0 5 7 1 8 2 2 2 2 4 2 6 1 9 8 5 1 9 1 2 8 3 8 9 2 4 2 8 8 2 0 5 8 8 5 3\n",
      " 9 4 3 4 4 5 1 0 1 2 0 6 9]\n"
     ]
    }
   ],
   "source": [
    "print (y_test[500:550])"
   ]
  },
  {
   "cell_type": "code",
   "execution_count": 15,
   "metadata": {},
   "outputs": [
    {
     "data": {
      "text/plain": [
       "<matplotlib.image.AxesImage at 0x7f0584240a20>"
      ]
     },
     "execution_count": 15,
     "metadata": {},
     "output_type": "execute_result"
    },
    {
     "data": {
      "image/png": "[encoded data removed]",
      "text/plain": [
       "<Figure size 432x288 with 1 Axes>"
      ]
     },
     "metadata": {
      "needs_background": "light"
     },
     "output_type": "display_data"
    }
   ],
   "source": [
    "#Let's see some test images\n",
    " \n",
    "plt.imshow(X_test.reshape(10000, 28, 28)[502])"
   ]
  },
  {
   "cell_type": "code",
   "execution_count": 16,
   "metadata": {},
   "outputs": [
    {
     "data": {
      "text/plain": [
       "<matplotlib.image.AxesImage at 0x7f0584195b00>"
      ]
     },
     "execution_count": 16,
     "metadata": {},
     "output_type": "execute_result"
    },
    {
     "data": {
      "image/png": "[encoded data removed]",
      "text/plain": [
       "<Figure size 432x288 with 1 Axes>"
      ]
     },
     "metadata": {
      "needs_background": "light"
     },
     "output_type": "display_data"
    }
   ],
   "source": [
    "plt.imshow(X_test.reshape(10000, 28, 28)[503])"
   ]
  },
  {
   "cell_type": "code",
   "execution_count": 23,
   "metadata": {},
   "outputs": [
    {
     "data": {
      "image/png": "[encoded data removed]",
      "text/plain": [
       "<Figure size 1080x648 with 12 Axes>"
      ]
     },
     "metadata": {
      "needs_background": "light"
     },
     "output_type": "display_data"
    }
   ],
   "source": [
    "fig, axs = plt.subplots(3, 4, figsize=(15, 9))\n",
    "first_im = 502 # sandal\n",
    "sec_im = 503 # sneaker\n",
    "third_im = 500 # pullover\n",
    "CONVOLUTION_NUMBER=10\n",
    "\n",
    "\n",
    "\n",
    "from tensorflow.keras import models\n",
    "layer_outputs = [layer.output for layer in model.layers]\n",
    "activation_model = keras.models.Model(inputs = model.input, outputs=layer_outputs)\n",
    "\n",
    "for x in range(0, 4):\n",
    "    f1 = activation_model.predict(X_test_reshape[first_im].reshape(1, 28, 28, 1))[x]\n",
    "    axs[0,x].imshow(f1[0, : , :, CONVOLUTION_NUMBER], cmap='viridis')\n",
    "    axs[0,x].grid(False)\n",
    "    f2 = activation_model.predict(X_test_reshape[sec_im].reshape(1, 28, 28, 1))[x]\n",
    "    axs[1,x].imshow(f2[0, : , :, CONVOLUTION_NUMBER], cmap='viridis')\n",
    "    axs[1,x].grid(False)\n",
    "    f3 = activation_model.predict(X_test_reshape[third_im].reshape(1, 28, 28, 1))[x]\n",
    "    axs[2,x].imshow(f3[0, : , :, CONVOLUTION_NUMBER], cmap='viridis')\n",
    "    axs[2,x].grid(False)\n",
    "\n",
    "# plt.savefig('Understanding_conv10.png', dpi=300)    "
   ]
  },
  {
   "cell_type": "markdown",
   "metadata": {},
   "source": [
    "Let's see what's happening here. First we print out some of the test labels, each label represents different class. Keras api gives each conv, pool or dense etc as layers. So it's possible to get output of each layers with [layers.output](https://keras.io/layers/about-keras-layers/). Now we treat each item in the layer as separate model to see the outputs. So image (0, 0) shows the outout of first convolution. As you can see the dimension is $(26 \\times 26)$. Then pooling reduces the size to half (0, 1), then one more conv layer reduces the size to $(11 \\times 11)$. Finally the pooling layer reduces the size of the image to $(5 \\times 5)$. \n",
    "\n",
    "Change the Convolution number to see how different filters identify different features.   "
   ]
  },
  {
   "cell_type": "code",
   "execution_count": null,
   "metadata": {},
   "outputs": [],
   "source": []
  }
 ],
 "metadata": {
  "kernelspec": {
   "display_name": "Python 3",
   "language": "python",
   "name": "python3"
  },
  "language_info": {
   "codemirror_mode": {
    "name": "ipython",
    "version": 3
   },
   "file_extension": ".py",
   "mimetype": "text/x-python",
   "name": "python",
   "nbconvert_exporter": "python",
   "pygments_lexer": "ipython3",
   "version": "3.6.8"
  }
 },
 "nbformat": 4,
 "nbformat_minor": 2
}
