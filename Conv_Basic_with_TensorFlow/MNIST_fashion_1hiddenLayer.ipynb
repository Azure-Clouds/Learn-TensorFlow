{
 "cells": [
  {
   "cell_type": "markdown",
   "metadata": {},
   "source": [
    "## MNIST Fashion Data and Multi-Class Classification "
   ]
  },
  {
   "cell_type": "code",
   "execution_count": 9,
   "metadata": {},
   "outputs": [
    {
     "name": "stdout",
     "output_type": "stream",
     "text": [
      "tensorflow version:  1.14.0\n"
     ]
    }
   ],
   "source": [
    "import tensorflow as tf\n",
    "from tensorflow import keras\n",
    "print (\"tensorflow version: \", tf.__version__)\n",
    "import numpy as np\n",
    "import matplotlib.pyplot as plt\n",
    "import seaborn as sns"
   ]
  },
  {
   "cell_type": "markdown",
   "metadata": {},
   "source": [
    "#### Load the MNIST Data from Keras API. \n",
    "Check [Keras Dataset](https://keras.io/datasets/) page for a short tutorial. \n",
    "Since we will use only tensorflow, check the [TensorFlow](https://www.tensorflow.org/tutorials/keras/basic_classification) page for loading and using the data.  "
   ]
  },
  {
   "cell_type": "code",
   "execution_count": 2,
   "metadata": {},
   "outputs": [],
   "source": [
    "mnist_fashion = keras.datasets.fashion_mnist\n",
    "(X_train, y_train), (X_test, y_test) = mnist_fashion.load_data()"
   ]
  },
  {
   "cell_type": "markdown",
   "metadata": {},
   "source": [
    "#### Study the Shape of the Images and Labels "
   ]
  },
  {
   "cell_type": "code",
   "execution_count": 7,
   "metadata": {},
   "outputs": [
    {
     "name": "stdout",
     "output_type": "stream",
     "text": [
      "training data shape:  (60000, 28, 28)\n",
      "training label shape:  (60000,)\n",
      "test data shape:  (10000, 28, 28)\n",
      "test label shape:  (10000,)\n",
      "type of data: <class 'numpy.ndarray'>\n",
      "type of labels: <class 'numpy.ndarray'>\n"
     ]
    }
   ],
   "source": [
    "print (\"training data shape: \", X_train.shape)\n",
    "print (\"training label shape: \", y_train.shape)\n",
    "print (\"test data shape: \", X_test.shape)\n",
    "print (\"test label shape: \", y_test.shape)\n",
    "print (\"type of data:\", type(X_train))sgd'\n",
    "print (\"type of labels:\", type(y_test))"
   ]
  },
  {
   "cell_type": "code",
   "execution_count": 21,
   "metadata": {},
   "outputs": [
    {
     "data": {
      "image/png": "[encoded data removed]",
      "text/plain": [
       "<Figure size 864x648 with 1 Axes>"
      ]
     },
     "metadata": {
      "needs_background": "light"
     },
     "output_type": "display_data"
    }
   ],
   "source": [
    "#check the countplot\n",
    "fig = plt.figure(figsize=(12, 9))\n",
    "sns.countplot(y_train)\n",
    "plt.xlabel('Label', fontsize=12)\n",
    "plt.ylabel('Count', fontsize=12)\n",
    "plt.show()"
   ]
  },
  {
   "cell_type": "markdown",
   "metadata": {},
   "source": [
    "**Label and Class for the Fashion Dataset**\n",
    "\n",
    "|Label | Class|\n",
    "|---|---|\n",
    "|0| Top|\n",
    "|1| Trouser|\n",
    "|2| Pullover|\n",
    "|3| Dress|\n",
    "|4| Coat|\n",
    "|5| Sandal|\n",
    "|6| Shirt|\n",
    "|7| Sneaker|\n",
    "|8| Bag|\n",
    "|9| Ankle Boot|"
   ]
  },
  {
   "cell_type": "code",
   "execution_count": 24,
   "metadata": {},
   "outputs": [],
   "source": [
    "class_list=['Top', 'Trouser', 'Pullover', 'Dress', 'Coat', 'Sandal', 'Shirt', 'Sneaker', 'Bag', 'Ankle Boot'] "
   ]
  },
  {
   "cell_type": "code",
   "execution_count": 20,
   "metadata": {},
   "outputs": [
    {
     "data": {
      "text/plain": [
       "1000"
      ]
     },
     "execution_count": 20,
     "metadata": {},
     "output_type": "execute_result"
    }
   ],
   "source": [
    "# labels are uniformly distributed\n",
    "list(y_test.flatten()).count(5) # change the number from 0 to 9 to see "
   ]
  },
  {
   "cell_type": "markdown",
   "metadata": {},
   "source": [
    "#### Let's Check one of the training images"
   ]
  },
  {
   "cell_type": "code",
   "execution_count": 26,
   "metadata": {},
   "outputs": [
    {
     "name": "stdout",
     "output_type": "stream",
     "text": [
      "It's a:  Bag\n"
     ]
    },
    {
     "data": {
      "image/png": "[encoded data removed]",
      "text/plain": [
       "<Figure size 432x288 with 1 Axes>"
      ]
     },
     "metadata": {
      "needs_background": "light"
     },
     "output_type": "display_data"
    }
   ],
   "source": [
    "plt.imshow(X_train[100])\n",
    "print (\"It's a: \", class_list[y_train[100]])"
   ]
  },
  {
   "cell_type": "markdown",
   "metadata": {},
   "source": [
    "#### Normalize the Pixels\n",
    "Since the pixel values are number between 0 and 255, it is better if we normalize the values between 0 and 1 and it is considered as one of the most important image _pre-processing_ steps. "
   ]
  },
  {
   "cell_type": "code",
   "execution_count": 27,
   "metadata": {},
   "outputs": [],
   "source": [
    "X_train = X_train/255.0\n",
    "X_test = X_test/255."
   ]
  },
  {
   "cell_type": "markdown",
   "metadata": {},
   "source": [
    "### Model Instance in Keras, Create the Neural Net"
   ]
  },
  {
   "cell_type": "markdown",
   "metadata": {},
   "source": [
    "In the ast simplest example possible, we saw a neural net with one layer, one node and one input, and that was good enough for simple linear regression tasks. But here the data set is huge and the problem is rather complex, so we create our first neural network with one hidden layer, the hidden layer is **Dense**, i.e., every output from previous layer is connected to all the nodes in the dense _(Fully Connected)_ layer.    "
   ]
  },
  {
   "cell_type": "code",
   "execution_count": 29,
   "metadata": {},
   "outputs": [],
   "source": [
    "model = keras.models.Sequential([keras.layers.Flatten(), \n",
    "                                keras.layers.Dense(128, activation=tf.nn.relu), \n",
    "                                keras.layers.Dense(10, activation=tf.nn.softmax)])"
   ]
  },
  {
   "cell_type": "markdown",
   "metadata": {},
   "source": [
    "Let's explain what's happening out there. <br>\n",
    "* First we flatten the input, i.e. the images. The images are of dimension $28 \\times 28$, thus instead of having 28 rows and columns, we will have 784 numbers stacked over each other.\n",
    "\n",
    "* Dense layer is the hidden layer in our neural net, thus each input is connected to 128 neurons linearly and then the relu activation function is used.\n",
    "\n",
    "* As this is a multi-class problem, we have used softmax layer in the output. It picks the highest number from the 10 outputs and assign the image to the corresponding label. Important point here is that, last layer contains 10 softmax units, as there are 10 classes in  our dataset. These classes are independent of each other.        "
   ]
  },
  {
   "cell_type": "markdown",
   "metadata": {},
   "source": [
    "### Compile the Model and Fit the Training Data"
   ]
  },
  {
   "cell_type": "code",
   "execution_count": 30,
   "metadata": {},
   "outputs": [
    {
     "name": "stdout",
     "output_type": "stream",
     "text": [
      "Epoch 1/10\n",
      "60000/60000 [==============================] - 4s 63us/sample - loss: 0.4961 - acc: 0.8265\n",
      "Epoch 2/10\n",
      "60000/60000 [==============================] - 4s 61us/sample - loss: 0.3762 - acc: 0.8640\n",
      "Epoch 3/10\n",
      "60000/60000 [==============================] - 4s 60us/sample - loss: 0.3379 - acc: 0.8766\n",
      "Epoch 4/10\n",
      "60000/60000 [==============================] - 4s 60us/sample - loss: 0.3144 - acc: 0.8837\n",
      "Epoch 5/10\n",
      "60000/60000 [==============================] - 4s 60us/sample - loss: 0.2961 - acc: 0.8906\n",
      "Epoch 6/10\n",
      "60000/60000 [==============================] - 3s 58us/sample - loss: 0.2837 - acc: 0.8956\n",
      "Epoch 7/10\n",
      "60000/60000 [==============================] - 3s 57us/sample - loss: 0.2695 - acc: 0.9000\n",
      "Epoch 8/10\n",
      "60000/60000 [==============================] - 4s 60us/sample - loss: 0.2589 - acc: 0.9045\n",
      "Epoch 9/10\n",
      "60000/60000 [==============================] - 4s 60us/sample - loss: 0.2497 - acc: 0.9069\n",
      "Epoch 10/10\n",
      "60000/60000 [==============================] - 3s 57us/sample - loss: 0.2427 - acc: 0.9093\n"
     ]
    },
    {
     "data": {
      "text/plain": [
       "<tensorflow.python.keras.callbacks.History at 0x7f06422fbc88>"
      ]
     },
     "execution_count": 30,
     "metadata": {},
     "output_type": "execute_result"
    }
   ],
   "source": [
    "model.compile(optimizer=tf.train.AdamOptimizer(), \n",
    "             loss='sparse_categorical_crossentropy', \n",
    "             metrics=['accuracy'])\n",
    "\n",
    "\n",
    "# usually suggested that sparse_categorical_crossentropy to be used when targets are integers, \n",
    "# whereas if they are one hot encoded then use categorical_crossentropy \n",
    "\n",
    "model.fit(X_train, y_train, epochs=10)"
   ]
  },
  {
   "cell_type": "markdown",
   "metadata": {},
   "source": [
    "So the result suggests that our network is about 91% accurate, let's see how it performs on the test data"
   ]
  },
  {
   "cell_type": "code",
   "execution_count": 32,
   "metadata": {},
   "outputs": [
    {
     "name": "stdout",
     "output_type": "stream",
     "text": [
      "10000/10000 [==============================] - 0s 34us/sample - loss: 0.3507 - acc: 0.8759\n",
      "accuracy of the model on the test data:  0.8759\n"
     ]
    }
   ],
   "source": [
    "test_res = model.evaluate(X_test, y_test)\n",
    "print (\"accuracy of the model on the test data: \", test_res[1])"
   ]
  },
  {
   "cell_type": "markdown",
   "metadata": {},
   "source": [
    "______________________________________________________________________________________________________________"
   ]
  },
  {
   "cell_type": "markdown",
   "metadata": {},
   "source": [
    "### Some Other Important Points"
   ]
  },
  {
   "cell_type": "markdown",
   "metadata": {},
   "source": [
    "#### 1. Use Predict Method in Model Class\n",
    "\n",
    "\"Generates output predictions for the input samples.\""
   ]
  },
  {
   "cell_type": "code",
   "execution_count": 38,
   "metadata": {},
   "outputs": [
    {
     "name": "stdout",
     "output_type": "stream",
     "text": [
      "1 , this is a: Trouser\n",
      "from the test label:  Trouser\n",
      "Great Prediction\n"
     ]
    }
   ],
   "source": [
    "predict=model.predict(X_test)\n",
    "# let's see one result \n",
    "print (np.argmax(predict[200]), \", this is a:\", class_list[np.argmax(predict[200])])\n",
    "print (\"from the test label: \", class_list[y_test[200]])\n",
    "if class_list[y_test[200]]==class_list[np.argmax(predict[200])]:\n",
    "    print (\"!!! Great Prediction !!!\")\n",
    "else: \n",
    "    print (\"you need to work on your model :(\")"
   ]
  },
  {
   "cell_type": "markdown",
   "metadata": {},
   "source": [
    "#### 2. Use Callback to Stop Training After a Given Accuracy "
   ]
  },
  {
   "cell_type": "code",
   "execution_count": 40,
   "metadata": {},
   "outputs": [
    {
     "name": "stdout",
     "output_type": "stream",
     "text": [
      "Epoch 1/10\n",
      "60000/60000 [==============================] - 10s 160us/sample - loss: 0.4707\n",
      "Epoch 2/10\n",
      "59936/60000 [============================>.] - ETA: 0s - loss: 0.3579\n",
      " Loss has gone down below 40%, !!Stopping!!\n",
      "60000/60000 [==============================] - 10s 160us/sample - loss: 0.3581\n"
     ]
    },
    {
     "data": {
      "text/plain": [
       "<tensorflow.python.keras.callbacks.History at 0x7f065ca1a438>"
      ]
     },
     "execution_count": 40,
     "metadata": {},
     "output_type": "execute_result"
    }
   ],
   "source": [
    "class trycallback(keras.callbacks.Callback):\n",
    "    def on_epoch_end(self, epoch, logs={}):\n",
    "        if(logs.get('loss')<0.4):\n",
    "            print (\"\\n Loss has gone down below 40%, !!Stopping!!\")\n",
    "            self.model.stop_training = True\n",
    "\n",
    "            \n",
    "callbacks = trycallback()\n",
    "model1 = keras.models.Sequential([keras.layers.Flatten(), \n",
    "                                keras.layers.Dense(1024, activation=tf.nn.relu), \n",
    "                                keras.layers.Dense(10, activation = tf.nn.softmax)])\n",
    "\n",
    "\n",
    "model1.compile(optimizer='Adam', loss='sparse_categorical_crossentropy')\n",
    "model1.fit(X_train, y_train, epochs=10, callbacks=[callbacks])"
   ]
  },
  {
   "cell_type": "code",
   "execution_count": null,
   "metadata": {},
   "outputs": [],
   "source": []
  }
 ],
 "metadata": {
  "kernelspec": {
   "display_name": "Python 3",
   "language": "python",
   "name": "python3"
  },
  "language_info": {
   "codemirror_mode": {
    "name": "ipython",
    "version": 3
   },
   "file_extension": ".py",
   "mimetype": "text/x-python",
   "name": "python",
   "nbconvert_exporter": "python",
   "pygments_lexer": "ipython3",
   "version": "3.6.8"
  }
 },
 "nbformat": 4,
 "nbformat_minor": 2
}
